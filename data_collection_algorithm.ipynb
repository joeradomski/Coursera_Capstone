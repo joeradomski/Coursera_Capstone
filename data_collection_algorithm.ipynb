{
 "cells": [
  {
   "cell_type": "code",
   "execution_count": 1,
   "metadata": {},
   "outputs": [
    {
     "name": "stdout",
     "output_type": "stream",
     "text": [
      "Libraries imported.\n",
      "Your credentails:\n",
      "CLIENT_ID: GQHLGSG1LUV0ZDG1M0CTN3KZV4FEHAYAGQM11NRZP2JO1MBB\n",
      "CLIENT_SECRET:NH3TZNODNWWIFLTBLEVO4I2QEY5PJU2IL5V4YH5GL1GVPITA\n"
     ]
    }
   ],
   "source": [
    "# @hidden_cell\n",
    "import numpy as np # library to handle data in a vectorized manner\n",
    "\n",
    "import pandas as pd # library for data analsysis\n",
    "pd.set_option('display.max_columns', None)\n",
    "pd.set_option('display.max_rows', None)\n",
    "\n",
    "import json # library to handle JSON files\n",
    "\n",
    "#!conda install -c conda-forge geopy --yes # uncomment this line if you haven't completed the Foursquare API lab\n",
    "from geopy.geocoders import Nominatim # convert an address into latitude and longitude values\n",
    "\n",
    "import requests # library to handle requests\n",
    "from pandas.io.json import json_normalize # tranform JSON file into a pandas dataframe\n",
    "\n",
    "# Matplotlib and associated plotting modules\n",
    "import matplotlib.cm as cm\n",
    "import matplotlib.colors as colors\n",
    "\n",
    "# import k-means from clustering stage\n",
    "from sklearn.cluster import KMeans\n",
    "\n",
    "#!conda install -c conda-forge folium=0.5.0 --yes # uncomment this line if you haven't completed the Foursquare API lab\n",
    "import folium # map rendering library\n",
    "\n",
    "print('Libraries imported.')\n",
    "CLIENT_ID = 'GQHLGSG1LUV0ZDG1M0CTN3KZV4FEHAYAGQM11NRZP2JO1MBB' # your Foursquare ID\n",
    "CLIENT_SECRET = 'NH3TZNODNWWIFLTBLEVO4I2QEY5PJU2IL5V4YH5GL1GVPITA' # your Foursquare Secret\n",
    "VERSION = '20180604'\n",
    "LIMIT = 50\n",
    "print('Your credentails:')\n",
    "print('CLIENT_ID: ' + CLIENT_ID)\n",
    "print('CLIENT_SECRET:' + CLIENT_SECRET)"
   ]
  },
  {
   "cell_type": "code",
   "execution_count": 2,
   "metadata": {},
   "outputs": [
    {
     "name": "stdout",
     "output_type": "stream",
     "text": [
      "1.3408528 103.878446863736\n"
     ]
    }
   ],
   "source": [
    "#within this block, we find the geographic location of Singapore\n",
    "sgaddress = 'Singapore, SG'\n",
    "\n",
    "geolocator = Nominatim(user_agent=\"foursquare_agent\")\n",
    "location = geolocator.geocode(sgaddress)\n",
    "latitude = location.latitude\n",
    "longitude = location.longitude \n",
    "print(latitude, longitude)"
   ]
  },
  {
   "cell_type": "code",
   "execution_count": 3,
   "metadata": {},
   "outputs": [],
   "source": [
    "#we then in this block find restaurants within a specified radius away from the 'Singapore' geographic location\n",
    "search_query = 'Restaurant'\n",
    "radius = 1000\n",
    "\n",
    "#this function returns the category of the entry.\n",
    "def get_category_type(row):\n",
    "    try:\n",
    "        categories_list = row['categories']\n",
    "    except:\n",
    "        categories_list = row['venue.categories']\n",
    "        \n",
    "    if len(categories_list) == 0:\n",
    "        return None\n",
    "    else:\n",
    "        return categories_list[0]['name']\n",
    "    \n",
    "#here we call the foursquare api and find the nearby restaurants, save as a variable.\n",
    "#Then within the if statement, if there exist entries, we then write these entries to dataframe and filter for locational columns only.     \n",
    "url = 'https://api.foursquare.com/v2/venues/search?client_id={}&client_secret={}&ll={},{}&v={}&query={}&radius={}&limit={}'.format(CLIENT_ID, CLIENT_SECRET, latitude, longitude, VERSION, search_query, radius, LIMIT)\n",
    "results = requests.get(url).json()\n",
    "if results['response']['venues']!= []:\n",
    "    venues = results['response']['venues']\n",
    "    df = json_normalize(venues)\n",
    "    filtered_columns = ['name', 'categories'] + [col for col in df.columns if col.startswith('location.')] + ['id']\n",
    "    dataframe_filtered = df.loc[:, filtered_columns]\n",
    "    dataframe_filtered['categories'] = dataframe_filtered.apply(get_category_type, axis=1)\n",
    "    dataframe_filtered.columns = [column.split('.')[-1] for column in dataframe_filtered.columns]   "
   ]
  },
  {
   "cell_type": "code",
   "execution_count": 4,
   "metadata": {},
   "outputs": [
    {
     "name": "stderr",
     "output_type": "stream",
     "text": [
      "/opt/conda/envs/Python36/lib/python3.6/site-packages/pandas/core/frame.py:6692: FutureWarning: Sorting because non-concatenation axis is not aligned. A future version\n",
      "of pandas will change to not sort by default.\n",
      "\n",
      "To accept the future behavior, pass 'sort=False'.\n",
      "\n",
      "To retain the current behavior and silence the warning, pass 'sort=True'.\n",
      "\n",
      "  sort=sort)\n"
     ]
    },
    {
     "name": "stdout",
     "output_type": "stream",
     "text": [
      "1.2385\n",
      "1.2485\n",
      "1.2585\n",
      "1.2685\n",
      "1.2785\n",
      "1.2885\n",
      "1.2985\n",
      "1.3085\n",
      "1.3185\n",
      "1.3285\n",
      "1.3385\n",
      "1.3485\n",
      "1.3585\n",
      "1.3685\n",
      "1.3785\n",
      "1.3885\n",
      "1.3985\n",
      "1.4085\n",
      "1.4185\n",
      "1.4285\n",
      "1.4385000000000001\n",
      "1.4485000000000001\n",
      "1.4585000000000001\n",
      "1.4685000000000001\n",
      "Done\n"
     ]
    }
   ],
   "source": [
    "#we find however there to only be upto 50 entries, so we need to make multiple calls to the api to gather data on a larger sample of singapore restaurants.\n",
    "#within the following loops, we position the geographic centre of our search differently with each iteration. If there exists entries, we add these entries to the larger dataframe\n",
    "#Again we filter for locational columns only, in a similar way to the previous columns. \n",
    "latitude = 1.2385\n",
    "while latitude < 1.469:\n",
    "    longitude = 103.614\n",
    "    while longitude < 104.09:\n",
    "        url = 'https://api.foursquare.com/v2/venues/search?client_id={}&client_secret={}&ll={},{}&v={}&query={}&radius={}&limit={}'.format(CLIENT_ID, CLIENT_SECRET, latitude, longitude, VERSION, search_query, radius, LIMIT)\n",
    "        results = requests.get(url).json()\n",
    "        if results['response']['venues']!= []:\n",
    "            df_new = json_normalize(results['response']['venues'])\n",
    "            filtered_columns = ['name', 'categories'] + [col for col in df_new.columns if col.startswith('location.')] + ['id']\n",
    "            df_filtered_new = df_new.loc[:, filtered_columns]\n",
    "            df_filtered_new['categories'] = df_filtered_new.apply(get_category_type, axis=1)\n",
    "            df_filtered_new.columns = [column.split('.')[-1] for column in df_filtered_new.columns]      \n",
    "            dataframe_filtered = dataframe_filtered.append(df_filtered_new, ignore_index=True)\n",
    "        longitude+=0.005 \n",
    "    print(latitude) # the latitude is printed the algorithm is running correctly\n",
    "    latitude+=0.01\n",
    "print('Done')\n",
    "\n",
    "#below we eradicate duplicate entries and entries from outside of Singapore.\n",
    "dataframe_filtered.drop_duplicates(subset='id', inplace=True)\n",
    "dataframe_filtered = dataframe_filtered[dataframe_filtered.cc == 'SG']\n",
    "\n",
    "#here we drop entries where the category is not known then reset index\n",
    "dataframe_filtered.dropna(inplace=True, subset =['categories'])\n",
    "dataframe_filtered.reset_index(inplace=True, drop=True)\n",
    "\n",
    "#here we leave only the rows of use then write the df to a csv file.\n",
    "dataframe_filtered = dataframe_filtered[['name','categories','id','lat','lng']]\n",
    "dataframe_filtered.to_csv('singapore_restaurant.csv')"
   ]
  }
 ],
 "metadata": {
  "kernelspec": {
   "display_name": "Python 3.6",
   "language": "python",
   "name": "python3"
  },
  "language_info": {
   "codemirror_mode": {
    "name": "ipython",
    "version": 3
   },
   "file_extension": ".py",
   "mimetype": "text/x-python",
   "name": "python",
   "nbconvert_exporter": "python",
   "pygments_lexer": "ipython3",
   "version": "3.6.8"
  }
 },
 "nbformat": 4,
 "nbformat_minor": 1
}
